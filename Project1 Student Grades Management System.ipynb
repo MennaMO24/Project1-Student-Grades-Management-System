{
 "cells": [
  {
   "cell_type": "code",
   "execution_count": 30,
   "id": "68b47906",
   "metadata": {},
   "outputs": [],
   "source": [
    "class StudentGradesManagementSystem:\n",
    "    def __init__(self):\n",
    "        self.students = {}\n",
    "        self.subjects = []\n",
    "\n",
    "    def  Add_Student(self, student_name):\n",
    "        if student_name not in self.students:\n",
    "            self.students[student_name] = {}\n",
    "            print(f\"Student {student_name} added successfully.\")\n",
    "        else:\n",
    "            print(f\"Student {student_name} already exists.\")\n",
    "\n",
    "    def Add_Subject(self, subject_name):\n",
    "        if subject_name not in self.subjects:\n",
    "            self.subjects.append(subject_name)\n",
    "            for student in self.students:\n",
    "                self.students[student][subject_name] = None\n",
    "            print(f\"Subject {subject_name} added successfully.\")\n",
    "        else:\n",
    "            print(f\"Subject {subject_name} already exists.\")\n",
    "\n",
    "    def Record_Grade(self, student_name, subject_name, grade):\n",
    "        if student_name in self.students:\n",
    "            if subject_name in self.subjects:\n",
    "                self.students[student_name][subject_name] = grade\n",
    "                print(f\"Recorded grade {grade} for {student_name} in {subject_name}.\")\n",
    "            else:\n",
    "                print(f\"Subject {subject_name} does not exist.\")\n",
    "        else:\n",
    "            print(f\"Student {student_name} does not exist.\")\n",
    "\n",
    "    def Calculate_Average_Grades(self):\n",
    "        averages = {}\n",
    "        for student, grades in self.students.items():\n",
    "            total = 0\n",
    "            count = 0\n",
    "            for subject, grade in grades.items():\n",
    "                if grade is not None:\n",
    "                    total += grade\n",
    "                    count += 1\n",
    "            if count > 0:\n",
    "                averages[student] = total / count\n",
    "            else:\n",
    "                averages[student] = 0\n",
    "        return averages\n",
    "\n",
    "    def Determine_Top_Student(self):\n",
    "        averages = self.Calculate_Average_Grades()\n",
    "        top_student = None\n",
    "        highest_average = 0\n",
    "        for student, average in averages.items():\n",
    "            if average > highest_average:\n",
    "                highest_average = average\n",
    "                top_student = student\n",
    "        return top_student"
   ]
  },
  {
   "cell_type": "code",
   "execution_count": 31,
   "id": "38bd19b5",
   "metadata": {},
   "outputs": [],
   "source": [
    "system = StudentGradesManagementSystem()"
   ]
  },
  {
   "cell_type": "code",
   "execution_count": 32,
   "id": "2053c3a2",
   "metadata": {},
   "outputs": [
    {
     "name": "stdout",
     "output_type": "stream",
     "text": [
      "Student Menna added successfully.\n",
      "Student Mehad added successfully.\n",
      "Student Mesar added successfully.\n"
     ]
    }
   ],
   "source": [
    "system.Add_Student(\"Menna\")\n",
    "system.Add_Student(\"Mehad\")\n",
    "system.Add_Student(\"Mesar\")"
   ]
  },
  {
   "cell_type": "code",
   "execution_count": 33,
   "id": "f8194378",
   "metadata": {},
   "outputs": [
    {
     "name": "stdout",
     "output_type": "stream",
     "text": [
      "Subject Python added successfully.\n",
      "Subject Data_Base added successfully.\n",
      "Subject NLP added successfully.\n"
     ]
    }
   ],
   "source": [
    "system.Add_Subject(\"Python\")\n",
    "system.Add_Subject(\"Data_Base\")\n",
    "system.Add_Subject(\"NLP\")"
   ]
  },
  {
   "cell_type": "code",
   "execution_count": 34,
   "id": "f74fc507",
   "metadata": {},
   "outputs": [
    {
     "name": "stdout",
     "output_type": "stream",
     "text": [
      "Recorded grade 90 for Menna in Python.\n",
      "Recorded grade 90 for Menna in Data_Base.\n",
      "Recorded grade 80 for Menna in NLP.\n",
      "Recorded grade 90 for Mehad in Python.\n",
      "Recorded grade 80 for Mehad in Data_Base.\n",
      "Recorded grade 70 for Mehad in NLP.\n",
      "Recorded grade 85 for Mesar in Python.\n",
      "Recorded grade 90 for Mesar in Data_Base.\n",
      "Recorded grade 80 for Mesar in NLP.\n"
     ]
    }
   ],
   "source": [
    "system.Record_Grade(\"Menna\", \"Python\", 90)\n",
    "system.Record_Grade(\"Menna\", \"Data_Base\", 90)\n",
    "system.Record_Grade(\"Menna\", \"NLP\", 80)\n",
    "\n",
    "system.Record_Grade(\"Mehad\", \"Python\", 90)\n",
    "system.Record_Grade(\"Mehad\", \"Data_Base\", 80)\n",
    "system.Record_Grade(\"Mehad\", \"NLP\", 70)\n",
    "\n",
    "system.Record_Grade(\"Mesar\", \"Python\", 85)\n",
    "system.Record_Grade(\"Mesar\", \"Data_Base\", 90)\n",
    "system.Record_Grade(\"Mesar\", \"NLP\", 80)"
   ]
  },
  {
   "cell_type": "code",
   "execution_count": 35,
   "id": "d3bd56e0",
   "metadata": {},
   "outputs": [
    {
     "name": "stdout",
     "output_type": "stream",
     "text": [
      "Menna's average grade: 86.66666666666667\n",
      "Mehad's average grade: 80.0\n",
      "Mesar's average grade: 85.0\n"
     ]
    }
   ],
   "source": [
    "averages = system.Calculate_Average_Grades()\n",
    "for student, average in averages.items():\n",
    "    print(f\"{student}'s average grade: {average}\")"
   ]
  },
  {
   "cell_type": "code",
   "execution_count": 36,
   "id": "da63a1bd",
   "metadata": {},
   "outputs": [
    {
     "name": "stdout",
     "output_type": "stream",
     "text": [
      "The top student is Menna with an average grade of 86.66666666666667\n"
     ]
    }
   ],
   "source": [
    "# Determine the top student\n",
    "top_student = system.Determine_Top_Student()\n",
    "print(f\"The top student is {top_student} with an average grade of {averages[top_student]}\")"
   ]
  },
  {
   "cell_type": "code",
   "execution_count": null,
   "id": "c8f148e5",
   "metadata": {},
   "outputs": [],
   "source": []
  }
 ],
 "metadata": {
  "kernelspec": {
   "display_name": "Python 3 (ipykernel)",
   "language": "python",
   "name": "python3"
  },
  "language_info": {
   "codemirror_mode": {
    "name": "ipython",
    "version": 3
   },
   "file_extension": ".py",
   "mimetype": "text/x-python",
   "name": "python",
   "nbconvert_exporter": "python",
   "pygments_lexer": "ipython3",
   "version": "3.11.4"
  }
 },
 "nbformat": 4,
 "nbformat_minor": 5
}
